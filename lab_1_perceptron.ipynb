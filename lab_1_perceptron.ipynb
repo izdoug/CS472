{
 "cells": [
  {
   "cell_type": "markdown",
   "metadata": {
    "id": "DVL7_bgmIAPR"
   },
   "source": [
    "# Perceptron Lab\n",
    "\n",
    "\n",
    "\n"
   ]
  },
  {
   "cell_type": "code",
   "execution_count": 1,
   "metadata": {
    "id": "6ZbYjZZZ_yLV"
   },
   "outputs": [],
   "source": [
    "from sklearn.base import BaseEstimator, ClassifierMixin\n",
    "from sklearn.linear_model import Perceptron\n",
    "import numpy as np\n",
    "import matplotlib.pyplot as plt\n",
    "from scipy.io import arff\n",
    "import pandas as pd"
   ]
  },
  {
   "cell_type": "markdown",
   "metadata": {
    "id": "sCcEPx5VIORj"
   },
   "source": [
    "## 1. (40%) Correctly implement and submit your own code for the perceptron learning algorithm. \n",
    "\n",
    "### Code requirements\n",
    "- Shuffle the data each epoch.\n",
    "- A way to create a random train/test split. Write your own. In the future you can use the scikit-learn version if you want.\n",
    "- Use Stochastic/On-line training updates: Iterate and update weights after each training instance (i.e. do not attempt batch updates)\n",
    "- Implement a stopping criteria: when your model has trained for a number of epochs with no significant improvement in accuracy, stop training. Note that the weights/accuracy do not usually change monotonically.\n",
    "- Use your perceptron to solve the Debug data. We provide you with several parameters, and you should be able to replicate our results every time. When you are confident it is correct, run your perceptron on the Evaluation data with the same parameters, and include your final weights in your report PDF."
   ]
  },
  {
   "cell_type": "code",
   "execution_count": 2,
   "metadata": {
    "id": "_a2KSZ_7AN0G"
   },
   "outputs": [],
   "source": [
    "class PerceptronClassifier(BaseEstimator,ClassifierMixin):\n",
    "\n",
    "    def __init__(self, lr=.1, shuffle=True):\n",
    "        \"\"\" \n",
    "            Initialize class with chosen hyperparameters.\n",
    "        Args:\n",
    "            lr (float): A learning rate / step size.\n",
    "            shuffle: Whether to shuffle the training data each epoch. DO NOT \n",
    "            SHUFFLE for evaluation / debug datasets.\n",
    "        \"\"\"\n",
    "        self.lr = lr\n",
    "        self.shuffle = shuffle\n",
    "\n",
    "    def fit(self, X, y, epochs=0, initial_weights=None):\n",
    "        \"\"\" \n",
    "            Fit the data; run the algorithm and adjust the weights to find a \n",
    "            good solution\n",
    "        Args:\n",
    "            X (array-like): A 2D numpy array with the training data, excluding\n",
    "            targets\n",
    "            y (array-like): A 2D numpy array with the training targets\n",
    "            initial_weights (array-like): allows the user to provide initial \n",
    "            weights\n",
    "        Returns:\n",
    "            self: this allows this to be chained, e.g. model.fit(X,y).predict(X_test)\n",
    "        \"\"\"\n",
    "        self.weights = self.initialize_weights(X) if not initial_weights else initial_weights\n",
    "        \n",
    "        if epochs == 0:\n",
    "            epoch_scores = []\n",
    "            self.count = 0\n",
    "            trend = 0\n",
    "            while self.count < 5 or trend > .001:\n",
    "                if self.shuffle:\n",
    "                    self._shuffle_data(X, y)\n",
    "                    \n",
    "                for i in range(len(X)):\n",
    "                    net = np.dot(X[i], self.weights)\n",
    "                    out = 1 if net > 0 else 0\n",
    "                    if out != y[i]:\n",
    "                        for j in range(len(self.weights)):\n",
    "                            self.weights[j] = self.weights[j] + self.lr * (y[i] - out) * X[i,j]\n",
    "                            \n",
    "                epoch_scores.append(self.score(X, y))\n",
    "                if len(epoch_scores) > 10:\n",
    "                    epoch_scores.pop(0)\n",
    "                trend = abs(epoch_scores[0] - epoch_scores[-1])\n",
    "                self.count += 1\n",
    "            \n",
    "        else:\n",
    "            for q in range(epochs):\n",
    "                if self.shuffle:\n",
    "                    self._shuffle_data()\n",
    "\n",
    "                for i in range(len(X)):\n",
    "                    net = np.dot(X[i], self.weights)\n",
    "                    out = 1 if net > 0 else 0\n",
    "                    if out != y[i]:\n",
    "                        for j in range(len(self.weights)):\n",
    "                            self.weights[j] = self.weights[j] + self.lr * (y[i] - out) * X[i,j]\n",
    "                            \n",
    "        return self\n",
    "\n",
    "    def predict(self, X):\n",
    "        \"\"\" \n",
    "            Predict all classes for a dataset X\n",
    "        Args:\n",
    "            X (array-like): A 2D numpy array with the training data, excluding \n",
    "            targets\n",
    "        Returns:\n",
    "            array, shape (n_samples,)\n",
    "                Predicted target values per element in X.\n",
    "        \"\"\"\n",
    "        prediction = np.zeros((len(X), 1))\n",
    "        for i in range(len(X)):\n",
    "            prediction[i] = np.dot(X[i], self.weights)\n",
    "            if prediction[i] > 0:\n",
    "                prediction[i] = 1\n",
    "            else:\n",
    "                prediction[i] = 0\n",
    "        return prediction\n",
    "\n",
    "    def initialize_weights(self, X):\n",
    "        \"\"\" Initialize weights for perceptron. Don't forget the bias!\n",
    "        Returns:\n",
    "        \"\"\"\n",
    "        weights = np.random.rand(X.shape[1])\n",
    "        weights = (weights * 2) - 1\n",
    "        return weights\n",
    "\n",
    "    def score(self, X, y):\n",
    "        \"\"\" \n",
    "            Return accuracy of model on a given dataset. Must implement own \n",
    "            score function.\n",
    "        Args:\n",
    "            X (array-like): A 2D numpy array with data, excluding targets\n",
    "            y (array-like): A 2D numpy array with targets\n",
    "        Returns:\n",
    "            score : float\n",
    "                Mean accuracy of self.predict(X) wrt. y.\n",
    "        \"\"\"\n",
    "\n",
    "        prediction = self.predict(X)\n",
    "        acc = 1 - (sum(abs(prediction - y)) / len(y))\n",
    "        return acc\n",
    "\n",
    "    def _shuffle_data(self, X, y):\n",
    "        \"\"\" \n",
    "            Shuffle the data! This _ prefix suggests that this method should \n",
    "            only be called internally.\n",
    "            It might be easier to concatenate X & y and shuffle a single 2D \n",
    "            array, rather than shuffling X and y exactly the same way, \n",
    "            independently.\n",
    "        \"\"\"\n",
    "        both = np.concatenate((X, y), axis=1)\n",
    "        np.random.shuffle(both)\n",
    "        X = both[:,:-1]\n",
    "        y = both[:,-1]\n",
    "\n",
    "    ### Not required by sk-learn but required by us for grading. Returns the weights.\n",
    "    def get_weights(self):\n",
    "        return np.array(self.weights).T"
   ]
  },
  {
   "cell_type": "markdown",
   "metadata": {
    "id": "KibCIXIThpbE"
   },
   "source": [
    "## 1.1 Debug \n",
    "\n",
    "Debug your model by running it on the [debug dataset](https://raw.githubusercontent.com/cs472ta/CS472/master/datasets/linsep2nonorigin.arff)\n",
    "\n",
    "Parameters:\n",
    "\n",
    "Learning Rate = 0.1\\\n",
    "Deterministic = 10 [This means run it 10 epochs and should be the same everytime you run it]\\\n",
    "Shuffle = False\\\n",
    "Initial Weights = All zeros\n",
    "\n",
    "---\n",
    "\n",
    "Expected Results\n",
    "\n",
    "Accuracy = [0.88]\\\n",
    "Final Weights = [-0.23  0.18 -0.1 ]"
   ]
  },
  {
   "cell_type": "code",
   "execution_count": 3,
   "metadata": {
    "id": "KgAyy82gixIF"
   },
   "outputs": [
    {
     "name": "stdout",
     "output_type": "stream",
     "text": [
      "Accuracy: [0.875]\n",
      "Weights: [[-0.23  0.18 -0.1 ]]\n"
     ]
    }
   ],
   "source": [
    "# Load debug data\n",
    "\n",
    "data = arff.loadarff('datasets/linsep2nonorigin.arff')\n",
    "df = pd.DataFrame(data[0])\n",
    "data = np.array(df)\n",
    "\n",
    "X = data[:,:-1]\n",
    "X = np.concatenate((X, np.ones((len(X), 1))), axis=1)\n",
    "y = np.reshape([int(s.decode()) for s in data[:,-1]], (-1,1))\n",
    "\n",
    "# Train on debug data\n",
    "\n",
    "PC = PerceptronClassifier(.1, False)\n",
    "PC.fit(X, y, 10, [0,0,0])\n",
    "\n",
    "# Check accuracy and weights\n",
    "\n",
    "print(\"Accuracy: \" + str(PC.score(X, y)))\n",
    "print(\"Weights: \" + str(PC.get_weights()))"
   ]
  },
  {
   "cell_type": "markdown",
   "metadata": {
    "id": "kY3VNB1ui03N"
   },
   "source": [
    "## 1.2 Evaluation\n",
    "\n",
    "We will evaluate your model based on it's performance on the [evaluation dataset](https://raw.githubusercontent.com/cs472ta/CS472/master/datasets/data_banknote_authentication.arff)"
   ]
  },
  {
   "cell_type": "code",
   "execution_count": 4,
   "metadata": {
    "id": "2yAxA78QjDh2"
   },
   "outputs": [
    {
     "name": "stdout",
     "output_type": "stream",
     "text": [
      "Weights: [[-3.80657242 -2.840821   -3.0719334  -1.4003906   4.9       ]]\n"
     ]
    }
   ],
   "source": [
    "# Load evaluation data\n",
    "\n",
    "data = arff.loadarff('datasets/data_banknote_authentication.arff')\n",
    "df = pd.DataFrame(data[0])\n",
    "data = np.array(df)\n",
    "\n",
    "X = data[:,:-1]\n",
    "X = np.concatenate((X, np.ones((len(X), 1))), axis=1)\n",
    "y = np.reshape([int(s.decode()) for s in data[:,-1]], (-1,1))\n",
    "\n",
    "# Train on evaluation data\n",
    "\n",
    "PC = PerceptronClassifier(.1, False)\n",
    "PC.fit(X, y, 10, [0,0,0,0,0])\n",
    "\n",
    "# Print weights\n",
    "\n",
    "print(\"Weights: \" + str(PC.get_weights()))"
   ]
  },
  {
   "cell_type": "markdown",
   "metadata": {
    "id": "9vWiTdlbR2Xh"
   },
   "source": [
    "## 2. (10%) Create 2 datasets\n",
    "\n",
    "- Both with 8 instances using 2 real valued inputs (ranging between -1 and 1) with 4 instances from each class. \n",
    "- One data set should be linearly separable and the other not.\n",
    "- Graph each dataset"
   ]
  },
  {
   "cell_type": "code",
   "execution_count": 5,
   "metadata": {
    "id": "4SSoasDQSKXb"
   },
   "outputs": [],
   "source": [
    "# Create 2 datasets\n",
    "\n",
    "set_1 = np.array([[-.2,.6,1],[-.6,.2,1],[-.1,.3,1],[-.9,.2,1],[.2,-.3,0],[.6,-.7,0],[.8,-.5,0],[.1,-.2,0]])\n",
    "set_2 = np.array([[-.1,.2,0],[.3,.4,0],[.5,-.3,0],[.8,0,0],[-.7,-.6,1],[.1,.3,1],[-.6,.2,1],[-.4,-.8,1]])"
   ]
  },
  {
   "cell_type": "markdown",
   "metadata": {
    "id": "SIRG42TgSR4x"
   },
   "source": [
    "## 3. (10%) Train on both sets with your perceptron code.\n",
    "\n",
    "- Use a couple different learning rates.\n"
   ]
  },
  {
   "cell_type": "code",
   "execution_count": 6,
   "metadata": {
    "id": "KBGUn43ASiXW"
   },
   "outputs": [
    {
     "name": "stdout",
     "output_type": "stream",
     "text": [
      "[0.20353894 0.6328928  0.05668882]\n",
      "[1.]\n",
      "[-0.15844958 -0.23293922  0.07245435]\n",
      "[0.625]\n",
      "11\n",
      "16\n"
     ]
    }
   ],
   "source": [
    "# Train on each dataset\n",
    "\n",
    "PC1 = PerceptronClassifier(.1, True)\n",
    "X_1 = set_1[:,:-1]\n",
    "X_1 = np.concatenate((X_1, np.ones((len(X_1), 1))), axis=1)\n",
    "y_1 = set_1[:,-1]\n",
    "y_1 = y_1.reshape(-1,1)\n",
    "\n",
    "print(PC1.fit(X_1,y_1).get_weights())\n",
    "print(PC1.score(X_1,y_1))\n",
    "PC2 = PerceptronClassifier(.1, True)\n",
    "X_2 = set_2[:,:-1]\n",
    "X_2 = np.concatenate((X_2, np.ones((len(X_2), 1))), axis=1)\n",
    "y_2 = set_2[:,-1]\n",
    "y_2 = y_2.reshape(-1,1)\n",
    "\n",
    "print(PC2.fit(X_2,y_2).get_weights())\n",
    "print(PC2.score(X_2,y_2))\n",
    "print(PC1.count)\n",
    "print(PC2.count)"
   ]
  },
  {
   "cell_type": "markdown",
   "metadata": {
    "id": "mOteTlV6S0bq"
   },
   "source": [
    "Discuss the effect of learning rate, including how many epochs are completed before stopping. (For these cases, learning rate should have minimal effect, unlike with the Backpropagation lab.)\n"
   ]
  },
  {
   "cell_type": "markdown",
   "metadata": {
    "id": "qmq9GSbJS8k2"
   },
   "source": [
    "*The learning rate did not seem to have a large effect on the number of epochs it required to stop the fitting algorithm, although occasionally the smaller learning rates would have a higher number of epochs before stopping*\n",
    "\n"
   ]
  },
  {
   "cell_type": "markdown",
   "metadata": {
    "id": "v19fpixqTe-7"
   },
   "source": [
    "## 4. (10%) Graph the instances and decision line for the two cases above (with LR=.1)\n",
    " \n",
    " - For all graphs always label the axes!"
   ]
  },
  {
   "cell_type": "code",
   "execution_count": 7,
   "metadata": {
    "id": "ZCPFUAGTS2sX"
   },
   "outputs": [
    {
     "data": {
      "text/plain": [
       "Text(0, 0.5, 'X_2')"
      ]
     },
     "execution_count": 7,
     "metadata": {},
     "output_type": "execute_result"
    },
    {
     "data": {
      "image/png": "[encoded data removed]",
      "text/plain": [
       "<Figure size 432x288 with 1 Axes>"
      ]
     },
     "metadata": {
      "needs_background": "light"
     },
     "output_type": "display_data"
    }
   ],
   "source": [
    "# Graph decision line\n",
    "\n",
    "plt.scatter(X_1[0:4,0],X_1[0:4,1], label=\"Class 1\")\n",
    "plt.scatter(X_1[4:,0],X_1[4:,1], label=\"Class 2\")\n",
    "i = np.linspace(-1,1,100)\n",
    "j = (PC1.get_weights()[0] * i + PC1.get_weights()[2]) / PC1.get_weights()[1]\n",
    "plt.plot(i,j, label=\"Learned Separator\")\n",
    "plt.xlim([-1,1])\n",
    "plt.ylim([-1,1.5])\n",
    "plt.title(\"Linearly Seperable Data\")\n",
    "plt.legend(loc=\"upper right\")\n",
    "plt.xlabel(\"X_1\")\n",
    "plt.ylabel(\"X_2\")"
   ]
  },
  {
   "cell_type": "code",
   "execution_count": 8,
   "metadata": {},
   "outputs": [
    {
     "data": {
      "text/plain": [
       "Text(0, 0.5, 'X_2')"
      ]
     },
     "execution_count": 8,
     "metadata": {},
     "output_type": "execute_result"
    },
    {
     "data": {
      "image/png": "[encoded data removed]",
      "text/plain": [
       "<Figure size 432x288 with 1 Axes>"
      ]
     },
     "metadata": {
      "needs_background": "light"
     },
     "output_type": "display_data"
    }
   ],
   "source": [
    "plt.scatter(X_2[0:4,0],X_2[0:4,1], label=\"Class 1\")\n",
    "plt.scatter(X_2[4:,0],X_2[4:,1], label=\"Class 2\")\n",
    "i = np.linspace(-1,1,100)\n",
    "j = (PC2.get_weights()[0] * i + PC2.get_weights()[2]) / PC2.get_weights()[1]\n",
    "plt.plot(i,j, label=\"Learned Separator\")\n",
    "plt.xlim([-1,1])\n",
    "plt.ylim([-1,1.5])\n",
    "plt.title(\"Linearly Inseperable Data\")\n",
    "plt.legend(loc=\"upper right\")\n",
    "plt.xlabel(\"X_1\")\n",
    "plt.ylabel(\"X_2\")"
   ]
  },
  {
   "cell_type": "markdown",
   "metadata": {
    "id": "0ySvhd1lUGSe"
   },
   "source": [
    "## 5. (20%) Use your perceptron code to learn this version of the [voting data set](https://raw.githubusercontent.com/rmorain/CS472-1/master/datasets/perceptron/voting-dataset.arff).\n",
    "\n",
    "This particular task is an edited version of the standard voting set, where we have replaced all the “don’t know” values with the most common value for the particular attribute.  \n",
    "\n",
    "### 5.1 Create a table that reports the final training and test set accuracy and the number of epochs for each trial.\n",
    "\n",
    "- Try it five times with different random 70/30 splits. \n",
    "- Use your own code to randomize and make splits. \n",
    "- Report the average of these values for the 5 trials in the table.  \n",
    "\n",
    "| Trial | Training Accuracy | Test accuracy | Number of epochs |\n",
    "| --- | --- | --- | --- |\n",
    "| 1 | .95 | .55 | 4 |\n",
    "| Average each value by trial| | | \n",
    "\n",
    "*- As a rough sanity check, typical Perceptron test accuracies for the voting data set are 90%-98%.*\n"
   ]
  },
  {
   "cell_type": "code",
   "execution_count": 9,
   "metadata": {
    "id": "Romyl4G8Trki"
   },
   "outputs": [
    {
     "name": "stdout",
     "output_type": "stream",
     "text": [
      "-------  ------------------  ------------------  ------\n",
      "Trials   Training Accuracy   Test Accuracy       Epochs\n",
      "1.0      0.9409937888198758  0.935251798561151   32.0\n",
      "2.0      0.9472049689440993  0.9424460431654677  46.0\n",
      "3.0      0.9565217391304348  0.9280575539568345  23.0\n",
      "4.0      0.9720496894409938  0.920863309352518   68.0\n",
      "5.0      0.9720496894409938  0.9424460431654677  35.0\n",
      "Average  0.9577639751552794  0.9338129496402878  40.8\n",
      "-------  ------------------  ------------------  ------\n",
      "Weights: [ 0.01718605 -0.21050266 -0.62224022  2.22427475  0.26024827  0.07837574\n",
      "  0.45204291  0.99443096 -0.66814219  0.62504692 -1.03383432  0.01869127\n",
      "  0.22354959 -0.02846802 -0.62150006  0.45243736 -1.86808017]\n"
     ]
    }
   ],
   "source": [
    "# Create table any way you like\n",
    "from tabulate import tabulate\n",
    "\n",
    "data = arff.loadarff('datasets/voting-dataset.arff')\n",
    "df = pd.DataFrame(data[0])\n",
    "data = np.array(df)\n",
    "\n",
    "X = data[:,:-1]\n",
    "X[X == b'n'] = 0\n",
    "X[X == b'y'] = 1\n",
    "X = np.concatenate((X, np.ones((len(X), 1))), axis=1)\n",
    "y = data[:,-1]\n",
    "y[y == b'democrat'] = 0\n",
    "y[y == b'republican'] = 1\n",
    "y = y.reshape((-1,1))\n",
    "\n",
    "full_set = np.concatenate((X,y), axis=1)\n",
    "results = []\n",
    "weights = []\n",
    "\n",
    "\n",
    "for k in range(5):\n",
    "\n",
    "    \n",
    "    np.random.shuffle(full_set)\n",
    "    split = int(len(full_set) * .7)\n",
    "    train_X = full_set[:split,:-1]\n",
    "    train_y = full_set[:split,-1].reshape((-1,1))\n",
    "    test_X = full_set[split:,:-1]\n",
    "    test_y = full_set[split:,-1].reshape((-1,1))\n",
    "    \n",
    "    PC = PerceptronClassifier(.1, True)\n",
    "    \n",
    "    train_score = float(PC.fit(train_X,train_y).score(train_X,train_y))\n",
    "    test_score = float(PC.score(test_X,test_y))\n",
    "    epochs = float(PC.count)\n",
    "    if len(results) < 1:\n",
    "        results = np.array([k + 1, train_score, test_score, epochs])\n",
    "    else:\n",
    "        results = np.vstack((results, [k + 1, train_score, test_score, epochs]))\n",
    "    if len(weights) < 1:\n",
    "        weights = np.array(PC.get_weights())\n",
    "    else:\n",
    "        weights = weights + np.array(PC.get_weights())\n",
    "\n",
    "header = [\"Trials\", \"Training Accuracy\", \"Test Accuracy\", \"Epochs\"]\n",
    "averages = [\"Average\", sum(results[:,1]) / 5, sum(results[:,2]) / 5, sum(results[:,3]) / 5]\n",
    "table = np.vstack((header, results, averages))\n",
    "print(tabulate(table))\n",
    "weights = weights / 5\n",
    "print(\"Weights: \" + str(weights))"
   ]
  },
  {
   "cell_type": "markdown",
   "metadata": {
    "id": "cm4rbWkzVeoR"
   },
   "source": [
    "### 5.2 By looking at the weights, explain what the model has learned and how the individual input features affect the result. Which specific features are most critical for the voting task, and which are least critical? \n"
   ]
  },
  {
   "cell_type": "markdown",
   "metadata": {
    "id": "g3F0Qp-BVi1R"
   },
   "source": [
    "*I averaged the weights at the end of each trial to handle some of the variation in the weights to see which inputs affect the results the most. The inputs that are most critical are the \"physician fee freeze\", \"synfuels corporation cutback\" and the bias. The ones that are the least critical are \"anti satellite test ban\", \"education spending\" and \"export administration act south africa\".*"
   ]
  },
  {
   "cell_type": "markdown",
   "metadata": {
    "id": "NyUmJ4yWVsQ7"
   },
   "source": [
    "### 5.3 Make a graph of the average misclassification rate vs epochs (0th – final epoch).\n",
    "\n",
    "- Average the misclassification rate for the training set across your 5 trials (not across 5 epochs).\n",
    "\n",
    "\n",
    "![Average Misclassification Rate](https://raw.githubusercontent.com/rmorain/CS472-1/master/images/perceptron/avg_misclassification_rate_vs_epochs.png)"
   ]
  },
  {
   "cell_type": "code",
   "execution_count": 10,
   "metadata": {
    "id": "2_ZRPWWVVeFM"
   },
   "outputs": [],
   "source": [
    "# Graph here\n",
    "    \n",
    "def plot_misclassification(avg_misclassification_rate):\n",
    "    \"\"\"\n",
    "        Plots the average misclassification rate\n",
    "    Args:\n",
    "        avg_misclassification_rate (array-like): A 1D array or list\n",
    "    \"\"\"\n",
    "    plt.plot(np.arange(len(avg_misclassification_rate)), avg_misclassification_rate)\n",
    "    plt.title(\"Average Misclassification Rate vs. Epoch\")\n",
    "    plt.xlabel(\"Epoch\")\n",
    "    plt.ylabel(\"Misclassification Rate\")\n",
    "    plt.show()\n",
    "    \n"
   ]
  },
  {
   "cell_type": "markdown",
   "metadata": {
    "id": "oBBmeNQ7jvcQ"
   },
   "source": [
    "## 6. (10%) Use the perceptron algorithm from the [scikit-learn toolkit](https://scikit-learn.org/stable/modules/generated/sklearn.linear_model.Perceptron.html) to learn the voting task above and also one other data set of your choice.\n",
    "\n",
    "- Report and compare your results.\n",
    "- Try out some of the hyper-parameters that scikit-learn makes available on your own perceptron."
   ]
  },
  {
   "cell_type": "code",
   "execution_count": 11,
   "metadata": {
    "id": "OFQv70W2VyqJ"
   },
   "outputs": [],
   "source": [
    "# Load sklearn perceptron\n",
    "\n",
    "# Train on voting dataset"
   ]
  },
  {
   "cell_type": "markdown",
   "metadata": {
    "id": "BqSFAXwlk3Ms"
   },
   "source": [
    "*Report your comparison*"
   ]
  },
  {
   "cell_type": "markdown",
   "metadata": {
    "id": "cTlK-kijk8Mg"
   },
   "source": [
    "## 7. (Optional 5% extra credit) Use the perceptron rule to learn the [iris task](https://raw.githubusercontent.com/cs472ta/CS472/master/datasets/iris.arff) or some other task with more than two possible output values. \n",
    "\n",
    "Note that the [iris data](https://raw.githubusercontent.com/cs472ta/CS472/master/datasets/iris.arff) set has 3 output classes, and a perceptron node only has two possible outputs.  You could implement either of the two most common ways to deal with this. For testing you just execute the novel instance on each model and combine the overall results to see which output class wins."
   ]
  },
  {
   "cell_type": "code",
   "execution_count": null,
   "metadata": {
    "id": "5iY77P7gk1Nh"
   },
   "outputs": [],
   "source": []
  }
 ],
 "metadata": {
  "colab": {
   "collapsed_sections": [],
   "name": "lab 1 - perceptron",
   "provenance": []
  },
  "kernelspec": {
   "display_name": "Python 3",
   "language": "python",
   "name": "python3"
  },
  "language_info": {
   "codemirror_mode": {
    "name": "ipython",
    "version": 3
   },
   "file_extension": ".py",
   "mimetype": "text/x-python",
   "name": "python",
   "nbconvert_exporter": "python",
   "pygments_lexer": "ipython3",
   "version": "3.8.5"
  }
 },
 "nbformat": 4,
 "nbformat_minor": 4
}
