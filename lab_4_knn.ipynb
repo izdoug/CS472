{
 "cells": [
  {
   "cell_type": "markdown",
   "metadata": {
    "id": "DVL7_bgmIAPR"
   },
   "source": [
    "# K-Nearest Neighbor Lab\n",
    "\n",
    "\n",
    "\n"
   ]
  },
  {
   "cell_type": "code",
   "execution_count": 1,
   "metadata": {
    "id": "6ZbYjZZZ_yLV"
   },
   "outputs": [],
   "source": [
    "from sklearn.base import BaseEstimator, ClassifierMixin\n",
    "from sklearn.neighbors import KNeighborsClassifier, KNeighborsRegressor\n",
    "from sklearn.preprocessing import LabelEncoder\n",
    "import numpy as np\n",
    "import matplotlib.pyplot as plt\n",
    "import pandas as pd\n",
    "from scipy.io import arff"
   ]
  },
  {
   "cell_type": "markdown",
   "metadata": {
    "id": "sCcEPx5VIORj"
   },
   "source": [
    "## 1. (40%) Correctly implement the k-nearest neighbor (KNN) algorithm and the KNN regression algorithm\n",
    "\n",
    "### Code requirements\n",
    "- Use Euclidean distance to decide closest neighbors. \n",
    "- Include optional distance weighting for both algorithms\n"
   ]
  },
  {
   "cell_type": "code",
   "execution_count": 2,
   "metadata": {
    "id": "_a2KSZ_7AN0G"
   },
   "outputs": [],
   "source": [
    "class KNNClassifier(BaseEstimator,ClassifierMixin):\n",
    "    def __init__(self, columntype=[], weight_type='inverse_distance', regression=False, normalize=False): ## add parameters here\n",
    "        \"\"\"\n",
    "        Args:\n",
    "            columntype for each column tells you if continues[real] or if nominal[categoritcal].\n",
    "            weight_type: inverse_distance voting or if non distance weighting. Options = [\"no_weight\",\"inverse_distance\"]\n",
    "        \"\"\"\n",
    "        self.columntype = columntype #Note This won't be needed until part 5\n",
    "        self.weight_type = weight_type\n",
    "        self.regression = regression\n",
    "        self.normalize = normalize\n",
    "\n",
    "    def fit(self, data, labels):\n",
    "        \"\"\" Fit the data; run the algorithm (for this lab really just saves the data :D)\n",
    "        Args:\n",
    "            X (array-like): A 2D numpy array with the training data, excluding targets\n",
    "            y (array-like): A 2D numpy array with the training targets\n",
    "        Returns:\n",
    "            self: this allows this to be chained, e.g. model.fit(X,y).predict(X_test)\n",
    "        \"\"\"\n",
    "        \n",
    "        self.X = np.copy(data)\n",
    "        self.y = np.copy(labels)\n",
    "        \n",
    "        if self.normalize:\n",
    "            self.norms = np.zeros((2,self.X.shape[1]))\n",
    "            for i in range(self.X.shape[1]):\n",
    "                self.norms[0,i] = self.X[:,i].min()\n",
    "                self.norms[1,i] = self.X[:,i].max()\n",
    "                self.X[:,i] = (self.X[:,i] - self.norms[0,i]) / (self.norms[1,i] - self.norms[0,i])\n",
    "        \n",
    "        return self\n",
    "    \n",
    "    def predict(self, data_in, k):\n",
    "        \"\"\" Predict all classes for a dataset X\n",
    "        Args:\n",
    "            X (array-like): A 2D numpy array with the training data, excluding targets\n",
    "        Returns:\n",
    "            array, shape (n_samples,)\n",
    "                Predicted target values per element in X.\n",
    "        \"\"\"\n",
    "        \n",
    "        data = np.copy(data_in)\n",
    "        \n",
    "        prediction = []\n",
    "        if not self.regression:\n",
    "            classes = np.unique(self.y)\n",
    "        \n",
    "        if self.normalize:\n",
    "            for i in range(data.shape[1]):\n",
    "                data[:,i] = (data[:,i] - self.norms[0,i]) / (self.norms[1,i] - self.norms[0,i])\n",
    "\n",
    "        for i in range(data.shape[0]):\n",
    "            dist = np.zeros(self.X.shape[0])\n",
    "            dist = np.linalg.norm(self.X - data[i], axis=1)\n",
    "            nearest = np.zeros((k),int)\n",
    "            alt_dist = np.copy(dist)\n",
    "            if self.regression:\n",
    "                ave = 0\n",
    "                weight_sum = 0\n",
    "            for n in range(nearest.shape[0]):\n",
    "                nearest[n] = np.argmin(alt_dist)\n",
    "                alt_dist[nearest[n]] = np.inf\n",
    "                if self.regression:\n",
    "                    if self.weight_type == 'inverse_distance':\n",
    "                        ave += self.y[nearest[n]] / (dist[nearest[n]] ** 2)\n",
    "                        weight_sum += 1 / (dist[nearest[n]] **2)\n",
    "                    else:\n",
    "                        ave += self.y[nearest[n]]\n",
    "            if not self.regression:\n",
    "                votes = np.zeros(classes.shape[0])\n",
    "                for n in range(nearest.shape[0]):\n",
    "                    vote = np.where(classes == self.y[nearest[n]])[0][0]\n",
    "                    if self.weight_type == 'inverse_distance':\n",
    "                        weight = 1 / (dist[n] ** 2)\n",
    "                    else:\n",
    "                        weight = 1\n",
    "                    votes[vote] += weight\n",
    "                prediction.append(classes[np.argmax(votes)])\n",
    "            else:\n",
    "                if self.weight_type == 'inverse_distance':\n",
    "                    prediction.append(ave / weight_sum)\n",
    "                else:\n",
    "                    prediction.append(ave / k)\n",
    "        return np.reshape(prediction, (-1,1))\n",
    "\n",
    "    #Returns the Mean score given input data and labels\n",
    "    def score(self, data, labels, k):\n",
    "        \"\"\" Return accuracy of model on a given dataset. Must implement own score function.\n",
    "        Args:\n",
    "            X (array-like): A 2D numpy array with data, excluding targets\n",
    "            y (array-like): A 2D numpy array with targets\n",
    "        Returns:\n",
    "            score : float\n",
    "                Mean accuracy of self.predict(X) wrt. y.\n",
    "        \"\"\"\n",
    "        \n",
    "        predictions = self.predict(data, k)\n",
    "        score = 0\n",
    "        for i in range(labels.shape[0]):\n",
    "            if self.regression:\n",
    "                score += (labels[i] - predictions[i]) ** 2\n",
    "            else:\n",
    "                if labels[i] == predictions[i]:\n",
    "                    score += 1\n",
    "        score = score / labels.shape[0]\n",
    "        \n",
    "        return score\n",
    "    "
   ]
  },
  {
   "cell_type": "markdown",
   "metadata": {},
   "source": [
    "## 1.1 Debug and Evaluation\n",
    "\n",
    "Debug and Evaluate your model using the parameters below:\n",
    "\n",
    "- Use distance weighting\n",
    "- KNN = 3 (three nearest neighbors)\n",
    "- Don’t normalize the data\n",
    "- Use Euclidean Distance\n",
    "\n",
    "---\n",
    "\n",
    "### 1.1.1 Debug\n",
    "\n",
    "Debug your model by running it on the [seismic bumps](https://archive.ics.uci.edu/ml/datasets/seismic-bumps) problem.\n",
    "- Use this [training set](https://raw.githubusercontent.com/cs472ta/CS472/master/datasets/seismic-bumps_train.arff) and this [test set](https://raw.githubusercontent.com/cs472ta/CS472/master/datasets/seismic-bumps_test.arff)\n",
    "- Use distance weighting\n",
    "- KNN = 3 (three nearest neighbors)\n",
    "- Don’t normalize the data\n",
    "- Use Euclidean Distance\n",
    "\n",
    "Expected Results:\n",
    "- Acc = [93.57]\n",
    "- Link to [debug solution](https://github.com/cs472ta/CS472/blob/master/debug_solutions/seismic-bump-prediction.csv)\n"
   ]
  },
  {
   "cell_type": "code",
   "execution_count": 3,
   "metadata": {},
   "outputs": [
    {
     "data": {
      "text/plain": [
       "0.9357142857142857"
      ]
     },
     "execution_count": 3,
     "metadata": {},
     "output_type": "execute_result"
    }
   ],
   "source": [
    "# Load seismic bumps data\n",
    "\n",
    "data = arff.loadarff('datasets/seismic-bumps_train.arff')\n",
    "df = pd.DataFrame(data[0])\n",
    "data = np.array(df)\n",
    "\n",
    "Xsb = data[:,:-1].astype(np.float64)\n",
    "ysb = data[:,-1]\n",
    "\n",
    "knn_sb = KNNClassifier([], 'inverse_distance')\n",
    "\n",
    "# Train on training set\n",
    "\n",
    "knn_sb.fit(Xsb, ysb)\n",
    "\n",
    "# Predict on test set\n",
    "\n",
    "data = arff.loadarff('datasets/seismic-bumps_test.arff')\n",
    "df = pd.DataFrame(data[0])\n",
    "data = np.array(df)\n",
    "\n",
    "Xsb_test = data[:,:-1].astype(np.float64)\n",
    "ysb_test = data[:,-1]\n",
    "\n",
    "knn_sb.score(Xsb_test, ysb_test, 3)"
   ]
  },
  {
   "cell_type": "markdown",
   "metadata": {},
   "source": [
    "### 1.1.2 Evaluate\n",
    "\n",
    "We will evaluate your model based on its performance on the [diabetes](https://archive.ics.uci.edu/ml/datasets/Diabetes) problem.\n",
    "- Use this [training set](https://raw.githubusercontent.com/cs472ta/CS472/master/datasets/diabetes_train.arff) and this [test set](https://raw.githubusercontent.com/cs472ta/CS472/master/datasets/diabetes_test.arff)"
   ]
  },
  {
   "cell_type": "code",
   "execution_count": 4,
   "metadata": {},
   "outputs": [
    {
     "data": {
      "text/plain": [
       "0.8216145833333334"
      ]
     },
     "execution_count": 4,
     "metadata": {},
     "output_type": "execute_result"
    }
   ],
   "source": [
    "# Load diabetes data\n",
    "\n",
    "data = arff.loadarff('datasets/diabetes_train.arff')\n",
    "df = pd.DataFrame(data[0])\n",
    "data = np.array(df)\n",
    "\n",
    "Xd = data[:,:-1].astype(np.float64)\n",
    "yd = data[:,-1]\n",
    "\n",
    "knn_d = KNNClassifier([], 'inverse_distance')\n",
    "\n",
    "# Train on training set\n",
    "\n",
    "knn_d.fit(Xd, yd)\n",
    "\n",
    "# Predict on test set\n",
    "\n",
    "data = arff.loadarff('datasets/diabetes_test.arff')\n",
    "df = pd.DataFrame(data[0])\n",
    "data = np.array(df)\n",
    "\n",
    "Xd_test = data[:,:-1].astype(np.float64)\n",
    "yd_test = data[:,-1]\n",
    "\n",
    "knn_d.score(Xd_test, yd_test, 3)"
   ]
  },
  {
   "cell_type": "markdown",
   "metadata": {
    "id": "9vWiTdlbR2Xh"
   },
   "source": [
    "## 2. (10%) Use the k-nearest neighbor algorithm (without distance weighting) for the [magic telescope](http://archive.ics.uci.edu/ml/datasets/MAGIC+Gamma+Telescope) problem\n",
    "\n",
    "- Use this [training set](https://raw.githubusercontent.com/cs472ta/CS472/master/datasets/magic_telescope_train.arff) and this [test set](https://raw.githubusercontent.com/cs472ta/CS472/master/datasets/magic_telescope_test.arff) \n",
    "\n",
    "### 2.1\n",
    "- Try it with k=3 and without normalization\n"
   ]
  },
  {
   "cell_type": "code",
   "execution_count": 5,
   "metadata": {
    "id": "4SSoasDQSKXb"
   },
   "outputs": [
    {
     "data": {
      "text/plain": [
       "0.8082808280828083"
      ]
     },
     "execution_count": 5,
     "metadata": {},
     "output_type": "execute_result"
    }
   ],
   "source": [
    "# Load magic telescope data\n",
    "\n",
    "data = arff.loadarff('datasets/magic_telescope_train.arff')\n",
    "df = pd.DataFrame(data[0])\n",
    "data = np.array(df)\n",
    "\n",
    "Xmt = data[:,:-1].astype(np.float64)\n",
    "ymt = data[:,-1]\n",
    "\n",
    "knn_mt = KNNClassifier([], None)\n",
    "\n",
    "# Train/Predict without normalization\n",
    "\n",
    "knn_mt.fit(Xmt,ymt)\n",
    "\n",
    "data = arff.loadarff('datasets/magic_telescope_test.arff')\n",
    "df = pd.DataFrame(data[0])\n",
    "data = np.array(df)\n",
    "\n",
    "Xmt_test = data[:,:-1].astype(np.float64)\n",
    "ymt_test = data[:,-1]\n",
    "\n",
    "knn_mt.score(Xmt_test,ymt_test,3)"
   ]
  },
  {
   "cell_type": "markdown",
   "metadata": {},
   "source": [
    "### 2.2\n",
    "- Try it with k=3 and with normalization (input features normalized between 0 and 1). Use the normalization formula (x-xmin)/(xmax-xmin)"
   ]
  },
  {
   "cell_type": "code",
   "execution_count": 6,
   "metadata": {},
   "outputs": [
    {
     "data": {
      "text/plain": [
       "0.8306330633063307"
      ]
     },
     "execution_count": 6,
     "metadata": {},
     "output_type": "execute_result"
    }
   ],
   "source": [
    "# Train/Predict with normalization\n",
    "\n",
    "knn_mt_n = KNNClassifier([], None, False, True)\n",
    "\n",
    "knn_mt_n.fit(Xmt,ymt)\n",
    "\n",
    "knn_mt_n.score(Xmt_test,ymt_test, 3)\n"
   ]
  },
  {
   "cell_type": "markdown",
   "metadata": {},
   "source": [
    "The accuracy improved by a little over 2% when the data was normalized."
   ]
  },
  {
   "cell_type": "markdown",
   "metadata": {},
   "source": [
    "### 2.3\n",
    "\n",
    "- Using your normalized data, create one graph with classification accuracy on the test set over k values. \n",
    "    - Use odd values of k from 1 to 15.\n",
    "- As a rough sanity check, typical knn accuracies for the magic telescope data set are 75-85%"
   ]
  },
  {
   "cell_type": "code",
   "execution_count": 7,
   "metadata": {},
   "outputs": [
    {
     "data": {
      "text/plain": [
       "Text(0, 0.5, 'accuracy')"
      ]
     },
     "execution_count": 7,
     "metadata": {},
     "output_type": "execute_result"
    },
    {
     "data": {
      "image/png": "[encoded data removed]",
      "text/plain": [
       "<Figure size 432x288 with 1 Axes>"
      ]
     },
     "metadata": {
      "needs_background": "light"
     },
     "output_type": "display_data"
    }
   ],
   "source": [
    "# Train/Predict with normalization using k=1,3,...,15\n",
    "\n",
    "accuracies = []\n",
    "\n",
    "for g in range(1,16, 2):\n",
    "    accuracies.append(knn_mt_n.score(Xmt_test, ymt_test, g))\n",
    "\n",
    "# Graph classification accuracy over k\n",
    "\n",
    "ks = np.arange(1, 16, 2)\n",
    "fig = plt.figure()\n",
    "ax = fig.add_axes([0,0,1,1])\n",
    "ax.plot(ks, accuracies)\n",
    "ax.set_title(\"accuracies vs k\")\n",
    "ax.set_xlabel(\"k\")\n",
    "ax.set_ylabel(\"accuracy\")"
   ]
  },
  {
   "cell_type": "markdown",
   "metadata": {},
   "source": [
    "# For the rest of the experiments use only normalized data"
   ]
  },
  {
   "cell_type": "markdown",
   "metadata": {
    "id": "SIRG42TgSR4x"
   },
   "source": [
    "## 3. (10%) Use the regression variation of your algorithm (without distance weighting) for the [housing price prediction](https://www.cs.toronto.edu/~delve/data/boston/bostonDetail.html) problem.\n",
    "\n",
    "- Use this [training set](https://raw.githubusercontent.com/cs472ta/CS472/master/datasets/housing_train.arff) and this [test set](https://raw.githubusercontent.com/cs472ta/CS472/master/datasets/housing_test.arff).\n",
    "- Use Mean Square Error (MSE) on the test set as your accuracy metric for this case.\n",
    "    - Do not normalize regression output values\n",
    "- Graph MSE on the test set with odd values of k from 1 to 15\n"
   ]
  },
  {
   "cell_type": "code",
   "execution_count": 8,
   "metadata": {
    "id": "KBGUn43ASiXW"
   },
   "outputs": [
    {
     "data": {
      "text/plain": [
       "Text(0, 0.5, 'MSE')"
      ]
     },
     "execution_count": 8,
     "metadata": {},
     "output_type": "execute_result"
    },
    {
     "data": {
      "image/png": "[encoded data removed]",
      "text/plain": [
       "<Figure size 432x288 with 1 Axes>"
      ]
     },
     "metadata": {
      "needs_background": "light"
     },
     "output_type": "display_data"
    }
   ],
   "source": [
    "# Load housing price prediction data\n",
    "\n",
    "data = arff.loadarff('datasets/housing_train.arff')\n",
    "df = pd.DataFrame(data[0])\n",
    "data = np.array(df)\n",
    "\n",
    "Xh = data[:,:-1].astype(np.float64)\n",
    "yh = data[:,-1].astype(np.float64)\n",
    "\n",
    "knn_h = KNNClassifier([], None, True, True)\n",
    "\n",
    "knn_h.fit(Xh,yh)\n",
    "\n",
    "data = arff.loadarff('datasets/housing_test.arff')\n",
    "df = pd.DataFrame(data[0])\n",
    "data = np.array(df)\n",
    "\n",
    "Xh_test = data[:,:-1].astype(np.float64)\n",
    "yh_test = data[:,-1].astype(np.float64)\n",
    "\n",
    "# Train/Predict using k=1,3,...,15\n",
    "\n",
    "accuracies = []\n",
    "\n",
    "for g in range(1,16, 2):\n",
    "    accuracies.append(knn_h.score(Xh_test, yh_test, g))\n",
    "\n",
    "# Graph MSE over k\n",
    "\n",
    "ks = np.arange(1, 16, 2)\n",
    "fig = plt.figure()\n",
    "ax = fig.add_axes([0,0,1,1])\n",
    "ax.plot(ks, accuracies)\n",
    "ax.set_title(\"MSE vs k\")\n",
    "ax.set_xlabel(\"k\")\n",
    "ax.set_ylabel(\"MSE\")"
   ]
  },
  {
   "cell_type": "markdown",
   "metadata": {
    "id": "v19fpixqTe-7"
   },
   "source": [
    "## 4. (15%) Repeat your experiments for magic telescope and housing using distance-weighted (inverse of distance squared) voting and discuss your results.\n"
   ]
  },
  {
   "cell_type": "code",
   "execution_count": 9,
   "metadata": {
    "id": "ZCPFUAGTS2sX"
   },
   "outputs": [
    {
     "data": {
      "text/plain": [
       "Text(0, 0.5, 'MSE')"
      ]
     },
     "execution_count": 9,
     "metadata": {},
     "output_type": "execute_result"
    },
    {
     "data": {
      "image/png": "[encoded data removed]",
      "text/plain": [
       "<Figure size 432x288 with 1 Axes>"
      ]
     },
     "metadata": {
      "needs_background": "light"
     },
     "output_type": "display_data"
    },
    {
     "data": {
      "image/png": "[encoded data removed]",
      "text/plain": [
       "<Figure size 432x288 with 1 Axes>"
      ]
     },
     "metadata": {
      "needs_background": "light"
     },
     "output_type": "display_data"
    }
   ],
   "source": [
    "# Train/Predict magic telescope using distance-weighted voting\n",
    "\n",
    "knn_mt_w = KNNClassifier([], 'inverse_distance', False, True)\n",
    "\n",
    "knn_mt_w.fit(Xmt, ymt)\n",
    "\n",
    "accuracies = []\n",
    "\n",
    "for g in range(1,16, 2):\n",
    "    accuracies.append(knn_mt_w.score(Xmt_test, ymt_test, g))\n",
    "\n",
    "# Graph classification accuracy over k\n",
    "\n",
    "ks = np.arange(1, 16, 2)\n",
    "fig = plt.figure()\n",
    "ax = fig.add_axes([0,0,1,1])\n",
    "ax.plot(ks, accuracies)\n",
    "ax.set_title(\"accuracies vs k\")\n",
    "ax.set_xlabel(\"k\")\n",
    "ax.set_ylabel(\"accuracy\")\n",
    "\n",
    "# Train/Predict housing using distance-weighted voting\n",
    "\n",
    "knn_h_w = KNNClassifier([], 'inverse_distance', True, True)\n",
    "\n",
    "knn_h_w.fit(Xh, yh)\n",
    "\n",
    "accuracies = []\n",
    "\n",
    "for g in range(1,16, 2):\n",
    "    accuracies.append(knn_h_w.score(Xh_test, yh_test, g))\n",
    "\n",
    "# Graph MSE over k\n",
    "\n",
    "ks = np.arange(1, 16, 2)\n",
    "fig = plt.figure()\n",
    "ax = fig.add_axes([0,0,1,1])\n",
    "ax.plot(ks, accuracies)\n",
    "ax.set_title(\"MSE vs k\")\n",
    "ax.set_xlabel(\"k\")\n",
    "ax.set_ylabel(\"MSE\")"
   ]
  },
  {
   "cell_type": "markdown",
   "metadata": {},
   "source": [
    "For the magic telescope data, it appears that the the unwieghted algorithm gives better accuracies but as you use a larger k value the accuracy starts to decrease whereas the accuracy with the distance weighted algorithm tends to increase with larger k values. The MSE for the housing data set is much better when using the weighted version as opposed to the unweighted as k increases. It appears that classification works better with the unweighted version and regression works better with the weighted version."
   ]
  },
  {
   "cell_type": "markdown",
   "metadata": {},
   "source": [
    "## 5. (10%) Use the k-nearest neighbor algorithm to solve the [credit-approval](https://archive.ics.uci.edu/ml/datasets/Credit+Approval) (credit-a) problem.\n",
    "\n",
    "- Use this [dataset](https://raw.githubusercontent.com/cs472ta/CS472/master/datasets/credit_approval.arff)\n",
    "    - Use a 70/30 split of the data for the training/test set\n",
    "- Note that this set has both continuous and nominal attributes, together with don’t know values. \n",
    "- Implement and justify a distance metric which supports continuous, nominal, and don’t know attribute values\n",
    "    - You need to handle don't knows with the distance metric, not by imputing a value.\n",
    "    - More information on distance metrics can be found [here](https://www.jair.org/index.php/jair/article/view/10182/24168).\n",
    "- Use your own choice for k.\n",
    "- As a rough sanity check, typical knn accuracies for the credit data set are 70-80%.\n"
   ]
  },
  {
   "cell_type": "code",
   "execution_count": 10,
   "metadata": {},
   "outputs": [],
   "source": [
    "# Load dataset and split into train/test sets\n",
    "\n",
    "# Train/Predict credit-approval\n"
   ]
  },
  {
   "cell_type": "markdown",
   "metadata": {},
   "source": [
    "*Explain and justify your distance metric*"
   ]
  },
  {
   "cell_type": "markdown",
   "metadata": {
    "id": "oBBmeNQ7jvcQ"
   },
   "source": [
    "## 6. (15%) Use the scikit's KNN Classifier on magic telescope and KNN Regressor on housing and compare your results.\n",
    "\n",
    "- Try out different hyperparameters to see how well you can do. \n"
   ]
  },
  {
   "cell_type": "code",
   "execution_count": 11,
   "metadata": {
    "id": "OFQv70W2VyqJ"
   },
   "outputs": [
    {
     "name": "stdout",
     "output_type": "stream",
     "text": [
      "0.8244824482448245\n",
      "-42.3940986505798\n"
     ]
    }
   ],
   "source": [
    "# Train/Predict magic telescope using scikit's KNN\n",
    "\n",
    "sk_knn_mt = KNeighborsClassifier(n_neighbors=15, weights='distance')\n",
    "\n",
    "le = LabelEncoder()\n",
    "sk_ymt = np.ravel(ymt.copy(), order='C')\n",
    "le.fit(sk_ymt)\n",
    "sk_ymt = le.transform(sk_ymt)\n",
    "\n",
    "sk_knn_mt.fit(Xmt,sk_ymt)\n",
    "\n",
    "le = LabelEncoder()\n",
    "sk_ymt_test = np.ravel(ymt_test.copy(), order='C')\n",
    "le.fit(sk_ymt_test)\n",
    "sk_ymt_test = le.transform(sk_ymt_test)\n",
    "\n",
    "print(sk_knn_mt.score(Xmt_test,sk_ymt_test))\n",
    "\n",
    "# Train/Predict housing using scikit's KNN\n",
    "\n",
    "sk_knn_h = KNeighborsRegressor(n_neighbors=73, weights='distance')\n",
    "\n",
    "le = LabelEncoder()\n",
    "sk_yh = np.ravel(yh.copy(), order='C')\n",
    "le.fit(sk_yh)\n",
    "sk_yh = le.transform(sk_yh)\n",
    "\n",
    "sk_knn_h.fit(Xh,sk_yh)\n",
    "\n",
    "le = LabelEncoder()\n",
    "sk_yh_test = np.ravel(yh_test.copy(), order='C')\n",
    "le.fit(sk_yh_test)\n",
    "sk_yh_test = le.transform(sk_yh_test)\n",
    "\n",
    "print(sk_knn_h.score(Xh_test,sk_yh_test))"
   ]
  },
  {
   "cell_type": "markdown",
   "metadata": {
    "id": "BqSFAXwlk3Ms"
   },
   "source": [
    "The best accuracy with the scikit learn's classifier on the magic telescope data I could find was when I used 15 neighbors and had the weight set to distance. This is a similar k value to what I found was best with my algorithm although my algorithm did better with uniform weights. This makes me wonder if the algorithm I used to determine the weight based on the distance is different from what scikit learn uses. My algorithm scored higher than the scikit learn algorithm.\n",
    "\n",
    "For the housing dataset, using the regressor, I found that having a higher k (73 was the best I found) and setting weights to distance helped improve the score. I am not sure how scikit learn calculated their score but I figured a less negative number was better. Because I am not sure what their scoring metric is, I can't compare it to the results that I got with my algorithm."
   ]
  },
  {
   "cell_type": "markdown",
   "metadata": {
    "id": "cTlK-kijk8Mg"
   },
   "source": [
    "## 7. (optional 5% extra credit): For the best value of k for any one of the datasets, implement a reduction algorithm that removes data points in some rational way such that performance does not drop too drastically on the test set given the reduced training set.\n",
    "\n",
    "- Compare your performance on the test set for the reduced and non-reduced versions and give the number (and percentage) of training examples removed from the original training set. How well does your reduction algorithm work?\n",
    "    - Note that performance for magic telescope is classification accuracy and for housing it is mean squared error.\n",
    "    - Magic Telescope has about 12,000 instances and if you use a leave one out style of testing for your data set reduction, then your algorithm will run slow since that is n2 at each step.\n",
    "    - If you wish, you may use a random subset of 2,000 of the magic telescope instances.\n",
    "    - More information on reduction techniques can be found [here](http://axon.cs.byu.edu/~martinez/classes/478/slides/IBL.pdf).\n"
   ]
  },
  {
   "cell_type": "code",
   "execution_count": null,
   "metadata": {
    "id": "5iY77P7gk1Nh"
   },
   "outputs": [],
   "source": []
  }
 ],
 "metadata": {
  "colab": {
   "collapsed_sections": [],
   "name": "lab 1 - perceptron",
   "provenance": []
  },
  "kernelspec": {
   "display_name": "Python 3",
   "language": "python",
   "name": "python3"
  },
  "language_info": {
   "codemirror_mode": {
    "name": "ipython",
    "version": 3
   },
   "file_extension": ".py",
   "mimetype": "text/x-python",
   "name": "python",
   "nbconvert_exporter": "python",
   "pygments_lexer": "ipython3",
   "version": "3.8.5"
  }
 },
 "nbformat": 4,
 "nbformat_minor": 1
}
